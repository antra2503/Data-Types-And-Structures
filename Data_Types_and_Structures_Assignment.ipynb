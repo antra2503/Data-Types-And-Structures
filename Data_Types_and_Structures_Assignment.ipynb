{
  "nbformat": 4,
  "nbformat_minor": 0,
  "metadata": {
    "colab": {
      "provenance": []
    },
    "kernelspec": {
      "name": "python3",
      "display_name": "Python 3"
    },
    "language_info": {
      "name": "python"
    }
  },
  "cells": [
    {
      "cell_type": "markdown",
      "source": [
        "# **Data Types and Structures Assignment**"
      ],
      "metadata": {
        "id": "o-pTxLpLfd_q"
      }
    },
    {
      "cell_type": "markdown",
      "source": [
        "**Q1. What are data structures, and why are they important ?**\n",
        "\n",
        "--> A data structure is a way of organizing, managing, and storing data in a computer so it can be accessed and modified efficiently. They define the arrangement of data in memory and the operations that can be performed on that data. Data structures are foundational in computer science and programming, acting as building blocks for designing algorithms."
      ],
      "metadata": {
        "id": "zfEzn-jdf6HW"
      }
    },
    {
      "cell_type": "markdown",
      "source": [
        "**Q2. Explain the difference between mutable and immutable data types with examples ?**\n",
        "\n",
        "--> **Mutable Data Types:**\n",
        "\n",
        "These can be changed or modified in place after creation.\n",
        "Operations like adding, removing, or changing elements do not create a new object; they alter the existing one.\n",
        "Mutable objects are generally used when data needs to be frequently updated.\n",
        "\n",
        "Examples:\n",
        "\n",
        "Lists: list\n",
        "\n",
        "Dictionaries: dict\n",
        "\n",
        "Sets: set\n",
        "\n",
        "**Immutable Data Types:**\n",
        "\n",
        "These cannot be modified once created.\n",
        "Any operation that appears to modify an immutable object actually creates a new object.\n",
        "Immutable objects are often preferred for data integrity and as keys in dictionaries or elements in sets.\n",
        "\n",
        "Examples:\n",
        "\n",
        "Strings: str\n",
        "\n",
        "Tuples: tuple\n",
        "\n",
        "Numbers: int, float, complex\n",
        "\n",
        "Frozen Sets: frozenset"
      ],
      "metadata": {
        "id": "CjbK7GUfhqHA"
      }
    },
    {
      "cell_type": "markdown",
      "source": [
        "**Q3. What are the main differences between lists and tuples in Python ?**\n",
        "\n",
        "--> **List**\n",
        "\n",
        "1. Mutable (Can be changed)\n",
        "2. [] (Square brackets)\n",
        "3. Slower, uses more memory\n",
        "4. Not Hashable\n",
        "5. For dynamic, modifiable data\n",
        "\n",
        "**Tuple**\n",
        "\n",
        "1. Immutable (Cannot be changed)\n",
        "2. () (Parentheses)\n",
        "3. Faster, uses less memory\n",
        "4. Hashable (if elements are hashable)\n",
        "5. For fixed, constant data"
      ],
      "metadata": {
        "id": "k4GSb30TiT8n"
      }
    },
    {
      "cell_type": "markdown",
      "source": [
        "**Q4. Describe how dictionaries store data ?**\n",
        "\n",
        "--> 1. Key-Value Pair Structure\n",
        "\n",
        "Keys must be unique and immutable (e.g., strings, numbers, or tuples).\n",
        "\n",
        "Values can be any data type, mutable or immutable.\n",
        "\n",
        "2. Hashing Keys\n",
        "\n",
        "Dictionaries use a hash table to store keys:\n",
        "\n",
        "Each key is passed through a hash function, which generates a unique integer called a hash value.\n",
        "\n",
        "The hash value determines the bucket (a specific memory location) where the key-value pair will be stored.\n",
        "\n",
        "3. Fast Lookups\n",
        "\n",
        "When you access a value using a key (e.g., my_dict[\"name\"]):\n",
        "\n",
        "The dictionary computes the hash of the key.\n",
        "\n",
        "It locates the corresponding bucket in constant time (O(1)).\n",
        "\n",
        "4. Handling Collisions\n",
        "\n",
        "Sometimes, different keys can have the same hash value (a collision).\n",
        "\n",
        "Python handles this using chaining or open addressing:\n",
        "\n",
        "Stores multiple key-value pairs in the same bucket using a linked list or similar structure.\n",
        "\n",
        "5. Dynamic Resizing\n",
        "\n",
        "Dictionaries grow dynamically as elements are added.\n",
        "\n",
        "When the hash table becomes too full, Python resizes it to maintain performance.\n",
        "\n"
      ],
      "metadata": {
        "id": "R50hV3-NkPOx"
      }
    },
    {
      "cell_type": "markdown",
      "source": [
        "**Q5. Why might you use a set instead of a list in Python ?**\n",
        "\n",
        "--> Key Advantages of Sets :-\n",
        "\n",
        "Ensures all elements are unique.\n",
        "\n",
        "Faster due to hashing (O(1) average).\n",
        "\n",
        "Supports operations like union, intersection, and difference efficiently.\n",
        "\n",
        "Unordered (no guaranteed order).\n",
        "\n",
        "**Why we use set instead of list :-**\n",
        "\n",
        "To elmimnate duplicates\n",
        "\n",
        "For fast membership tests\n",
        "\n",
        "For set operations\n"
      ],
      "metadata": {
        "id": "WZW4sWOrQpsH"
      }
    },
    {
      "cell_type": "markdown",
      "source": [
        "**Q6. What is a string in Python, and how is it different from a list ?**\n",
        "\n",
        "--> A string in Python is a sequence of characters enclosed in quotes (' ', \" \", or triple quotes). Strings are immutable, meaning their content cannot be changed after they are created.\n",
        "\n",
        "The key difference between a string and a list is that a string is an immutable sequence of characters, meaning you cannot change its individual elements once created, while a list is a mutable sequence that can hold various data types and can be modified after creation; essentially, a string is designed for storing text, while a list is for storing collections of data that can be varied and manipulated."
      ],
      "metadata": {
        "id": "lJ11fdFcRzCo"
      }
    },
    {
      "cell_type": "markdown",
      "source": [
        "**Q7. How do tuples ensure data integrity in Python ?**\n",
        "\n",
        "--> Tuples in Python ensure data integrity primarily through their immutability. Once created, the contents of a tuple cannot be modified, making them ideal for scenarios where data should remain consistent and unaltered.\n",
        "\n",
        "1. Immutability\n",
        "\n",
        "2. Safe to Use as Keys in Dictionaries or Elements in Sets\n",
        "\n",
        "3. Protection in Multi-Threaded Environments\n",
        "\n",
        "4. Explicit Representation of Fixed Data\n",
        "\n",
        "5. Reduced Risk of Accidental Modification"
      ],
      "metadata": {
        "id": "x-yX-a0OSVA2"
      }
    },
    {
      "cell_type": "markdown",
      "source": [
        "**Q8. What is a hash table, and how does it relate to dictionaries in Python ?**\n",
        "\n",
        "--> A hash table is a data structure that stores key-value pairs and allows for efficient data retrieval, insertion, and deletion operations. It uses a hash function to compute a unique index (called a hash) for each key, which determines where the corresponding value is stored in an internal array (or bucket).\n",
        "\n",
        "1. Dictionary Internals\n",
        "\n",
        "Keys: Each key in a dictionary is hashed using Python’s built-in hash() function.\n",
        "Hash Table: The hash value determines the index where the key-value pair is stored.\n",
        "Lookup: When you access a value using a key, Python hashes the key, locates the corresponding bucket, and retrieves the value.\n",
        "2. Unique and Immutable Keys\n",
        "\n",
        "Keys in a dictionary must be hashable, meaning:\n",
        "Immutable data types like int, float, str, and tuple (if its elements are hashable) can be used as keys.\n",
        "Mutable types like list or dict cannot be used as keys because their hash value could change.\n",
        "3. Fast Operations\n",
        "\n",
        "Dictionaries achieve O(1) average-case complexity for lookups and modifications due to their hash table implementation.\n",
        "4. Collision Handling in Python\n",
        "\n",
        "Python handles hash collisions using open addressing with probing (finding alternative locations in the table for colliding keys)."
      ],
      "metadata": {
        "id": "pAMge8LmTGd8"
      }
    },
    {
      "cell_type": "markdown",
      "source": [
        "**Q9.  Can lists contain different data types in Python ?**\n",
        "\n",
        "--> Yes, Lists Can Contain Different Data Types in Python.\n",
        "Python lists are highly flexible and can store elements of different data types within the same list. This is because Python is a dynamically-typed language, meaning the type of elements is checked during runtime, not at the time of list creation.\n",
        "\n",
        "Example of a List with Different Data Types :-\n",
        "\n"
      ],
      "metadata": {
        "id": "npY6OBh_V-hT"
      }
    },
    {
      "cell_type": "code",
      "source": [
        "my_list = [42, \"hello\", 3.14, True, [1, 2, 3], {\"key\": \"value\"}]\n",
        "print(my_list[0])\n",
        "print(my_list[1])\n",
        "print(my_list[4])\n",
        "print(my_list[5])"
      ],
      "metadata": {
        "colab": {
          "base_uri": "https://localhost:8080/"
        },
        "id": "PCrovh79j4R0",
        "outputId": "707cfa6d-fe52-4257-f1b2-450a677871dd"
      },
      "execution_count": null,
      "outputs": [
        {
          "output_type": "stream",
          "name": "stdout",
          "text": [
            "42\n",
            "hello\n",
            "[1, 2, 3]\n",
            "{'key': 'value'}\n"
          ]
        }
      ]
    },
    {
      "cell_type": "markdown",
      "source": [
        "**Q10. Explain why strings are immutable in Python ?**\n",
        "\n",
        "--> Strings in Python are immutable, meaning their content cannot be changed after they are created. This design decision has several practical and technical reasons, which contribute to performance, security, and usability.\n",
        "\n",
        "**1. Efficiency and Memory Optimization**\n",
        "\n",
        "String Interning: Python uses a technique called string interning to store certain strings (e.g., literals or commonly used strings) in a central memory pool. This allows reusing strings instead of creating duplicates, saving memory.\n",
        "\n",
        "If strings were mutable, changing one instance could unintentionally affect all references, leading to inconsistencies.\n",
        "\n",
        "**2. Hashability**\n",
        "\n",
        "Immutable strings can be hashed, making them valid keys for dictionaries or elements in sets.\n",
        "\n",
        "If strings were mutable, their hash value could change, causing issues with data retrieval in hash-based collections.\n",
        "\n",
        "**3. Security**\n",
        "\n",
        "Strings are often used to handle sensitive data (e.g., passwords, URLs).\n",
        "\n",
        "Immutability ensures that the string cannot be altered, providing a level of safety in handling such critical data.\n",
        "\n",
        "**4. Predictable Behavior**\n",
        "\n",
        "Immutability prevents accidental modification of strings, making programs easier to debug and maintain.\n",
        "\n",
        "This is particularly important in multi-threaded environments where strings may be shared across threads.\n",
        "\n",
        "**5. Functional Programming Design**\n",
        "\n",
        "Immutability aligns with the principles of functional programming, where data structures should not change after being created. This makes strings easier to work with in such contexts."
      ],
      "metadata": {
        "id": "UBWHvh9rWwnN"
      }
    },
    {
      "cell_type": "markdown",
      "source": [
        "**Q11. What advantages do dictionaries offer over lists for certain tasks ?**\n",
        "\n",
        "--> Advantages of Dictionaries Over Lists\n",
        "\n",
        "1. Fast Lookups\n",
        "\n",
        "Dictionaries: Provide O(1) average-time complexity for lookups, thanks to their hash table implementation.\n",
        "\n",
        "Lists: Require O(n) for searching an element because you need to iterate through the entire list in the worst case.\n",
        "\n",
        "2. Unique Key Association\n",
        "\n",
        "Dictionaries store unique keys that map to specific values.\n",
        "\n",
        "Lists do not have a concept of key-value association; you must manage this manually if needed.\n",
        "\n",
        "3. Readability and Simplicity\n",
        "\n",
        "Using a dictionary allows for clear, meaningful key-value mappings, improving code readability.\n",
        "\n",
        "Lists may require additional structures or logic to represent the same relationship.\n",
        "\n",
        "4. Flexibility for Heterogeneous Data\n",
        "\n",
        "Dictionaries can map keys (immutable and hashable) to values of any type.\n",
        "\n",
        "Lists store values linearly without an inherent key-value association.\n",
        "\n",
        "5. Built-in Methods for Manipulation\n",
        "\n",
        "Dictionaries offer methods like .keys(), .values(), .items(), and .get() for easy access and manipulation.\n",
        "\n",
        "Lists require custom code to implement similar functionality.\n",
        "\n",
        "6. Better for Large Datasets\n",
        "\n",
        "For large datasets with unique identifiers (e.g., user IDs or product codes), dictionaries are faster and more memory-efficient for lookups.\n",
        "\n"
      ],
      "metadata": {
        "id": "Kby-pzRVXtSE"
      }
    },
    {
      "cell_type": "markdown",
      "source": [
        "**Q12. Describe a scenario where using a tuple would be preferable over a list ?**\n",
        "\n",
        "--> Scenario Where Tuples Are Preferable Over Lists\n",
        "\n",
        "A tuple is preferable over a list when you need a fixed, immutable collection of data. This ensures that the data remains constant and cannot be modified accidentally or intentionally. Below are some scenarios:\n",
        "\n",
        "1. Representing Fixed Data (e.g., Coordinates, RGB Values)\n",
        "\n",
        "If you are storing data that inherently does not change, such as:\n",
        "\n",
        "Geographic coordinates (latitude, longitude).\n",
        "\n",
        "RGB color values (red, green, blue).\n",
        "\n",
        "2. Using as Keys in Dictionaries or Elements in Sets\n",
        "\n",
        "Tuples are hashable, making them valid keys for dictionaries or elements in sets, unlike lists, which are mutable and unhashable.\n",
        "\n",
        "3. Ensuring Data Integrity in Function Returns\n",
        "\n",
        "If a function returns multiple values that should not be modified, use a tuple.\n",
        "\n",
        "This is common in scenarios like:\n",
        "\n",
        "Returning multiple values (e.g., statistics or results).\n",
        "\n",
        "Representing database rows.\n",
        "\n",
        "4. Read-Only Configurations\n",
        "\n",
        "When you have configuration data that should not be altered after creation, a tuple ensures immutability.\n",
        "\n",
        "5. Lightweight Collections\n",
        "\n",
        "Tuples are more memory-efficient than lists due to their immutability, making them ideal for large, fixed collections of data."
      ],
      "metadata": {
        "id": "Ab8hluubx_53"
      }
    },
    {
      "cell_type": "markdown",
      "source": [
        "**Q13. How do sets handle duplicate values in Python ?**\n",
        "\n",
        "--> In Python, sets automatically eliminate duplicate values. Sets are unordered collections of unique elements, and any attempt to add a duplicate value to a set will have no effect. This behavior is due to the underlying hash table implementation, which ensures each element in a set is unique.\n",
        "\n",
        "Key Points on Handling Duplicates in Sets :-\n",
        "\n",
        "1. Automatic Deduplication\n",
        "2. Behavior During Addition"
      ],
      "metadata": {
        "id": "wrjTT0IGyy6y"
      }
    },
    {
      "cell_type": "markdown",
      "source": [
        "**Q14. How does the “in” keyword work differently for lists and dictionaries ?**\n",
        "\n",
        "--> 1. in for Lists\n",
        "\n",
        "The in keyword checks whether a given value is present in the list.\n",
        "\n",
        "It performs a linear search, which means it iterates through each element until a match is found or the list ends.\n",
        "\n",
        "Time complexity: O(n), where n is the number of elements in the list.\n",
        "\n",
        "2. in for Dictionaries\n",
        "\n",
        "The in keyword checks for the existence of a key in the dictionary, not its values.\n",
        "\n",
        "It performs a constant-time lookup (O(1)) on the dictionary because of its hash table implementation."
      ],
      "metadata": {
        "id": "vhKGpeu1zVFe"
      }
    },
    {
      "cell_type": "markdown",
      "source": [
        "**Q15. Can you modify the elements of a tuple? Explain why or why not ?**\n",
        "\n",
        "--> No, you cannot modify the elements of a tuple in Python. Tuples are immutable, meaning once a tuple is created, its elements cannot be changed, added, or removed. This immutability is a core feature of tuples and serves several purposes, such as ensuring data integrity, enabling their use as dictionary keys, and improving memory efficiency.\n",
        "\n",
        "Why Are Tuples Immutable?\n",
        "\n",
        "1. Data Integrity:\n",
        "\n",
        "Tuples are often used for data that should not change, such as fixed configurations or records. Immutability ensures that the data remains consistent throughout its lifetime.\n",
        "\n",
        "2. Hashability:\n",
        "\n",
        "Immutability allows tuples to be hashable, meaning they can be used as keys in dictionaries or elements in sets. If tuples were mutable, their hash value could change, causing unpredictable behavior in these data structures.\n",
        "\n",
        "3. Efficiency:\n",
        "\n",
        "Tuples are designed to be lightweight and memory-efficient. Immutability helps optimize performance by allowing Python to reuse tuple objects where possible.\n",
        "\n"
      ],
      "metadata": {
        "id": "s45A04z4z80e"
      }
    },
    {
      "cell_type": "markdown",
      "source": [
        "**Q16. What is a nested dictionary, and give an example of its use case ?**\n",
        "\n",
        "--> A nested dictionary is a dictionary where some values are themselves dictionaries. This structure allows you to store and organize data hierarchically, providing a way to represent more complex relationships."
      ],
      "metadata": {
        "id": "NluGVnoy0eg6"
      }
    },
    {
      "cell_type": "code",
      "source": [
        "# Nested dictionary example\n",
        "students = {\n",
        "    \"Alice\": {\"age\": 20, \"grades\": [85, 90, 88]},\n",
        "    \"Bob\": {\"age\": 22, \"grades\": [78, 76, 80]},\n",
        "    \"Charlie\": {\"age\": 19, \"grades\": [92, 88, 84]},\n",
        "}"
      ],
      "metadata": {
        "id": "SYEsSbOoWqzi"
      },
      "execution_count": 2,
      "outputs": []
    },
    {
      "cell_type": "markdown",
      "source": [
        "**Q17. Describe the time complexity of accessing elements in a dictionary ?**\n",
        "\n",
        "--> In Python, dictionaries use a hash table as their underlying data structure, which provides average constant-time performance (O(1)) for accessing elements. However, the actual performance can vary in specific scenarios.\n",
        "\n",
        "1. Average Case: O(1)\n",
        "\n",
        "Accessing elements (via keys) in a dictionary is highly efficient because:\n",
        "\n",
        "Each key is hashed into an index in the hash table.\n",
        "The value associated with the key is stored at that index, enabling direct retrieval without the need for a search.\n",
        "\n",
        "2. Worst Case: O(n)\n",
        "\n",
        "In rare situations, the performance degrades to O(n), where n is the number of elements in the dictionary. This happens due to hash collisions:\n",
        "\n",
        "Multiple keys can be hashed to the same index.\n",
        "\n",
        "When a collision occurs, Python stores the colliding elements in a list or similar structure at that index.\n",
        "\n",
        "Accessing the desired value in such cases requires searching through the collision list."
      ],
      "metadata": {
        "id": "QbxUOUUv04RV"
      }
    },
    {
      "cell_type": "markdown",
      "source": [
        "**Q18. In what situations are lists preferred over dictionaries ?**\n",
        "\n",
        "--> Lists and dictionaries serve different purposes in Python, and the choice between them depends on the specific requirements of your task. Lists are preferred over dictionaries in the following situations:\n",
        "\n",
        "1. Sequential Data with No Associated Keys\n",
        "2. When Order of Elements Matters\n",
        "3. When Data is Homogeneous\n",
        "4. When You Need Random Access by Position\n",
        "5. When You Do Not Need Key-Value Mapping\n",
        "6. Memory Efficiency for Small Datasets\n",
        "7. When Iteration Speed is Important"
      ],
      "metadata": {
        "id": "lUcVgAiN1zh6"
      }
    },
    {
      "cell_type": "markdown",
      "source": [
        "**Q19. Why are dictionaries considered unordered, and how does that affect data retrieval ?**\n",
        "\n",
        "--> Historically, dictionaries in Python were considered unordered because their underlying data structure, the hash table, does not store elements in any predictable sequence. Instead, keys are mapped to memory locations using hash functions, which prioritize fast access over maintaining order.\n",
        "\n",
        "*Impact on Data Retrieval*\n",
        "\n",
        "1. No Guarantee of Key Order (Before Python 3.7)\n",
        "2. Insertion Order Guarantee (Python 3.7+)\n",
        "\n"
      ],
      "metadata": {
        "id": "6j2uWY0H2YHm"
      }
    },
    {
      "cell_type": "markdown",
      "source": [
        "**Q20. Explain the difference between a list and a dictionary in terms of data retrieval. ?**\n",
        "\n",
        "--> 1. Data Retrieval in a List\n",
        "\n",
        "Index-Based Access:\n",
        "\n",
        "Data in a list is retrieved using an integer index that represents the position of the element in the sequence.\n",
        "\n",
        "The indices are zero-based, meaning the first element has an index of 0.\n",
        "\n",
        "Time Complexity:\n",
        "\n",
        "Accessing an element by index has an average time complexity of\n",
        "O(1) because lists are implemented as arrays.\n",
        "\n",
        "However, searching for an element by its value requires a linear scan, which has a complexity of O(n).\n",
        "\n",
        "2. Data Retrieval in a Dictionary\n",
        "\n",
        "Key-Based Access:\n",
        "\n",
        "Data in a dictionary is retrieved using a key, which can be any immutable type (e.g., string, number, tuple).\n",
        "\n",
        "Each key is mapped to a value, allowing for quick lookups.\n",
        "\n",
        "Time Complexity:\n",
        "\n",
        "Retrieving a value by key has an average time complexity of O(1) due to the underlying hash table implementation.\n",
        "\n",
        "Searching for a value (not key) requires a linear scan of the dictionary’s values, which has a complexity of O(n)."
      ],
      "metadata": {
        "id": "QsfSQqrT3__D"
      }
    },
    {
      "cell_type": "markdown",
      "source": [
        "# Practical Questions\n"
      ],
      "metadata": {
        "id": "q_WRRy4l5QV9"
      }
    },
    {
      "cell_type": "code",
      "source": [
        "# 1. Write a code to create a string with your name and print it.\n",
        "\n",
        "my_name = \"John Doe\"\n",
        "print(my_name)"
      ],
      "metadata": {
        "colab": {
          "base_uri": "https://localhost:8080/"
        },
        "id": "iYJp2oC-014d",
        "outputId": "82add49f-50f4-41c2-9480-68a257fe73e5"
      },
      "execution_count": 3,
      "outputs": [
        {
          "output_type": "stream",
          "name": "stdout",
          "text": [
            "John Doe\n"
          ]
        }
      ]
    },
    {
      "cell_type": "code",
      "source": [
        "# 2. Write a code to find the length of the string \"Hello World\".\n",
        "\n",
        "my_string = \"Hello World\"\n",
        "length = len(my_string)\n",
        "print(length)"
      ],
      "metadata": {
        "colab": {
          "base_uri": "https://localhost:8080/"
        },
        "id": "u7VkGXhD5kDj",
        "outputId": "b01fb73e-aedb-4a3d-b855-d76c37c86e29"
      },
      "execution_count": 5,
      "outputs": [
        {
          "output_type": "stream",
          "name": "stdout",
          "text": [
            "11\n"
          ]
        }
      ]
    },
    {
      "cell_type": "code",
      "source": [
        "# 3. Write a code to slice the first 3 characters from the string \"Python Programming\".\n",
        "\n",
        "my_string = \"Python Programming\"\n",
        "sliced_string = my_string[:3]\n",
        "print(sliced_string)"
      ],
      "metadata": {
        "colab": {
          "base_uri": "https://localhost:8080/"
        },
        "id": "giOMgVqO5tYm",
        "outputId": "51c043e8-730d-4492-f0dc-fbcba6c3e98a"
      },
      "execution_count": 6,
      "outputs": [
        {
          "output_type": "stream",
          "name": "stdout",
          "text": [
            "Pyt\n"
          ]
        }
      ]
    },
    {
      "cell_type": "code",
      "source": [
        "# 4. Write a code to convert the string \"hello\" to uppercase.\n",
        "\n",
        "my_string = \"hello\"\n",
        "uppercase_string = my_string.upper()\n",
        "print(uppercase_string)"
      ],
      "metadata": {
        "colab": {
          "base_uri": "https://localhost:8080/"
        },
        "id": "vvQxY0go6IA6",
        "outputId": "062f5371-b38f-4537-aa9f-a10a93ac59a7"
      },
      "execution_count": 7,
      "outputs": [
        {
          "output_type": "stream",
          "name": "stdout",
          "text": [
            "HELLO\n"
          ]
        }
      ]
    },
    {
      "cell_type": "code",
      "source": [
        "# 5. Write a code to replace the word \"apple\" with \"orange\" in the string \"I like apple\".\n",
        "\n",
        "my_string = \"I like apple\"\n",
        "replaced_string = my_string.replace(\"apple\", \"orange\")\n",
        "print(replaced_string)"
      ],
      "metadata": {
        "colab": {
          "base_uri": "https://localhost:8080/"
        },
        "id": "JE-2dmgJ6PFt",
        "outputId": "29f6e19c-7bc6-4643-88cc-abefd26bd1dc"
      },
      "execution_count": 8,
      "outputs": [
        {
          "output_type": "stream",
          "name": "stdout",
          "text": [
            "I like orange\n"
          ]
        }
      ]
    },
    {
      "cell_type": "code",
      "source": [
        "# 6.  Write a code to create a list with numbers 1 to 5 and print it.\n",
        "\n",
        "my_list = [1, 2, 3, 4, 5]\n",
        "print(my_list)"
      ],
      "metadata": {
        "colab": {
          "base_uri": "https://localhost:8080/"
        },
        "id": "m0RqYnkD6W7d",
        "outputId": "e4b796b3-d816-4731-fb1b-b05bca635dfb"
      },
      "execution_count": 9,
      "outputs": [
        {
          "output_type": "stream",
          "name": "stdout",
          "text": [
            "[1, 2, 3, 4, 5]\n"
          ]
        }
      ]
    },
    {
      "cell_type": "code",
      "source": [
        "# 7. Write a code to append the number 10 to the list [1, 2, 3, 4].\n",
        "\n",
        "my_list = [1, 2, 3, 4]\n",
        "my_list.append(10)\n",
        "print(my_list)"
      ],
      "metadata": {
        "colab": {
          "base_uri": "https://localhost:8080/"
        },
        "id": "P_MsbzCA610E",
        "outputId": "7b26af48-be3d-4791-c4f9-f8875a3897e6"
      },
      "execution_count": 10,
      "outputs": [
        {
          "output_type": "stream",
          "name": "stdout",
          "text": [
            "[1, 2, 3, 4, 10]\n"
          ]
        }
      ]
    },
    {
      "cell_type": "code",
      "source": [
        "# 8. Write a code to remove the number 3 from the list [1, 2, 3, 4, 5].\n",
        "\n",
        "my_list = [1, 2, 3, 4, 5]\n",
        "my_list.remove(3)\n",
        "print(my_list)"
      ],
      "metadata": {
        "colab": {
          "base_uri": "https://localhost:8080/"
        },
        "id": "CRARW0J06-B3",
        "outputId": "2af4370a-19fe-4e01-bdc8-dddf625d9440"
      },
      "execution_count": 11,
      "outputs": [
        {
          "output_type": "stream",
          "name": "stdout",
          "text": [
            "[1, 2, 4, 5]\n"
          ]
        }
      ]
    },
    {
      "cell_type": "code",
      "source": [
        "# 9. Write a code to access the second element in the list ['a', 'b', 'c', 'd'].\n",
        "\n",
        "my_list = ['a', 'b', 'c', 'd']\n",
        "second_element = my_list[1]\n",
        "print(second_element)"
      ],
      "metadata": {
        "colab": {
          "base_uri": "https://localhost:8080/"
        },
        "id": "NF9Zb9vp7GH6",
        "outputId": "608e598d-8d61-472b-c70c-4583e3a12bf2"
      },
      "execution_count": 12,
      "outputs": [
        {
          "output_type": "stream",
          "name": "stdout",
          "text": [
            "b\n"
          ]
        }
      ]
    },
    {
      "cell_type": "code",
      "source": [
        "# 10. Write a code to reverse the list [10, 20, 30, 40, 50].\n",
        "\n",
        "my_list = [10, 20, 30, 40, 50]\n",
        "reversed_list = my_list[::-1]\n",
        "print(reversed_list)"
      ],
      "metadata": {
        "colab": {
          "base_uri": "https://localhost:8080/"
        },
        "id": "rd4160t87K9L",
        "outputId": "20ff2557-0d48-4bcc-f589-ae7a1c203378"
      },
      "execution_count": 13,
      "outputs": [
        {
          "output_type": "stream",
          "name": "stdout",
          "text": [
            "[50, 40, 30, 20, 10]\n"
          ]
        }
      ]
    },
    {
      "cell_type": "code",
      "source": [
        "# 11. Write a code to create a tuple with the elements 10, 20, 30 and print it.\n",
        "\n",
        "my_tuple = (10, 20, 30)\n",
        "print(my_tuple)"
      ],
      "metadata": {
        "colab": {
          "base_uri": "https://localhost:8080/"
        },
        "id": "cP5jvznX7Pfr",
        "outputId": "846f8da7-759a-469a-990d-463dbbade58f"
      },
      "execution_count": 14,
      "outputs": [
        {
          "output_type": "stream",
          "name": "stdout",
          "text": [
            "(10, 20, 30)\n"
          ]
        }
      ]
    },
    {
      "cell_type": "code",
      "source": [
        "# 12. Write a code to access the first element of the tuple ('apple', 'banana', 'cherry').\n",
        "\n",
        "my_tuple = ('apple', 'banana', 'cherry')\n",
        "first_element = my_tuple[0]\n",
        "print(first_element)"
      ],
      "metadata": {
        "colab": {
          "base_uri": "https://localhost:8080/"
        },
        "id": "A8xTJRZr7XJU",
        "outputId": "112d1aef-bf4d-4067-a098-27c88d3ab496"
      },
      "execution_count": 15,
      "outputs": [
        {
          "output_type": "stream",
          "name": "stdout",
          "text": [
            "apple\n"
          ]
        }
      ]
    },
    {
      "cell_type": "code",
      "source": [
        "# 13. Write a code to count how many times the number 2 appears in the tuple (1, 2, 3, 2, 4, 2).\n",
        "\n",
        "my_tuple = (1, 2, 3, 2, 4, 2)\n",
        "count = my_tuple.count(2)\n",
        "print(count)"
      ],
      "metadata": {
        "colab": {
          "base_uri": "https://localhost:8080/"
        },
        "id": "f6k40_N27cXi",
        "outputId": "4b173a1a-bdc9-4a07-f58e-e9bff97f0103"
      },
      "execution_count": 16,
      "outputs": [
        {
          "output_type": "stream",
          "name": "stdout",
          "text": [
            "3\n"
          ]
        }
      ]
    },
    {
      "cell_type": "code",
      "source": [
        "# 14. Write a code to find the index of the element \"cat\" in the tuple ('dog', 'cat', 'rabbit').\n",
        "\n",
        "my_tuple = ('dog', 'cat', 'rabbit')\n",
        "index = my_tuple.index('cat')\n",
        "print(index)"
      ],
      "metadata": {
        "colab": {
          "base_uri": "https://localhost:8080/"
        },
        "id": "ODtno98s7irc",
        "outputId": "adfa4ef1-a59f-4c82-8793-b51a2b2a9c27"
      },
      "execution_count": 17,
      "outputs": [
        {
          "output_type": "stream",
          "name": "stdout",
          "text": [
            "1\n"
          ]
        }
      ]
    },
    {
      "cell_type": "code",
      "source": [
        "# 15. Write a code to check if the element \"banana\" is in the tuple ('apple', 'orange', 'banana').\n",
        "\n",
        "my_tuple = ('apple', 'orange', 'banana')\n",
        "is_present = 'banana' in my_tuple\n",
        "print(is_present)"
      ],
      "metadata": {
        "colab": {
          "base_uri": "https://localhost:8080/"
        },
        "id": "25N9umJk7xLq",
        "outputId": "5a61fcd8-1573-4bd4-b8c0-981dadb11110"
      },
      "execution_count": 18,
      "outputs": [
        {
          "output_type": "stream",
          "name": "stdout",
          "text": [
            "True\n"
          ]
        }
      ]
    },
    {
      "cell_type": "code",
      "source": [
        "# 16. Write a code to create a set with the elements 1, 2, 3, 4, 5 and print it.\n",
        "\n",
        "my_set = {1, 2, 3, 4, 5}\n",
        "print(my_set)"
      ],
      "metadata": {
        "colab": {
          "base_uri": "https://localhost:8080/"
        },
        "id": "-DiR4pcv72-c",
        "outputId": "d1ffc94f-79ce-4ece-d254-a3199498ab8a"
      },
      "execution_count": 19,
      "outputs": [
        {
          "output_type": "stream",
          "name": "stdout",
          "text": [
            "{1, 2, 3, 4, 5}\n"
          ]
        }
      ]
    },
    {
      "cell_type": "code",
      "source": [
        "# 17. Write a code to add the element 6 to the set {1, 2, 3, 4}.\n",
        "\n",
        "my_set = {1, 2, 3, 4}\n",
        "my_set.add(6)\n",
        "print(my_set)"
      ],
      "metadata": {
        "colab": {
          "base_uri": "https://localhost:8080/"
        },
        "id": "CB9OYukX79IW",
        "outputId": "1dae350a-6c44-4a46-d6c2-b93bf91528c1"
      },
      "execution_count": 20,
      "outputs": [
        {
          "output_type": "stream",
          "name": "stdout",
          "text": [
            "{1, 2, 3, 4, 6}\n"
          ]
        }
      ]
    },
    {
      "cell_type": "code",
      "source": [
        "# 18. Write a code to create a tuple with the elements 10, 20, 30 and print it.\n",
        "\n",
        "my_tuple = (10, 20, 30)\n",
        "print(my_tuple)"
      ],
      "metadata": {
        "colab": {
          "base_uri": "https://localhost:8080/"
        },
        "id": "j28acPX_8Br8",
        "outputId": "f113175f-50fa-485c-e726-e8cb0ea714fe"
      },
      "execution_count": 21,
      "outputs": [
        {
          "output_type": "stream",
          "name": "stdout",
          "text": [
            "(10, 20, 30)\n"
          ]
        }
      ]
    },
    {
      "cell_type": "code",
      "source": [
        "# 19. Write a code to access the first element of the tuple ('apple', 'banana', 'cherry').\n",
        "\n",
        "my_tuple = ('apple', 'banana', 'cherry')\n",
        "first_element = my_tuple[0]\n",
        "print(first_element)"
      ],
      "metadata": {
        "colab": {
          "base_uri": "https://localhost:8080/"
        },
        "id": "IHmMx4gB8GPa",
        "outputId": "8a730000-02d3-4e0a-afc7-d6acc2e38346"
      },
      "execution_count": 23,
      "outputs": [
        {
          "output_type": "stream",
          "name": "stdout",
          "text": [
            "apple\n"
          ]
        }
      ]
    },
    {
      "cell_type": "code",
      "source": [
        "# 20. Write a code to count how many times the number 2 appears in the tuple (1, 2, 3, 2, 4, 2).\n",
        "\n",
        "my_tuple = (1, 2, 3, 2, 4, 2)\n",
        "count = my_tuple.count(2)\n",
        "print(count)"
      ],
      "metadata": {
        "colab": {
          "base_uri": "https://localhost:8080/"
        },
        "id": "3M8L_BTc8KQ7",
        "outputId": "f1e5dafe-552c-402b-9a92-aa69348b5b03"
      },
      "execution_count": 24,
      "outputs": [
        {
          "output_type": "stream",
          "name": "stdout",
          "text": [
            "3\n"
          ]
        }
      ]
    },
    {
      "cell_type": "code",
      "source": [
        "# 21.  Write a code to find the index of the element \"cat\" in the tuple ('dog', 'cat', 'rabbit').\n",
        "\n",
        "my_tuple = ('dog', 'cat', 'rabbit')\n",
        "index_of_cat = my_tuple.index('cat')\n",
        "print(index_of_cat)"
      ],
      "metadata": {
        "colab": {
          "base_uri": "https://localhost:8080/"
        },
        "id": "wp-fz7gZ8aG9",
        "outputId": "c5040ba6-47f0-4778-87ca-937e69986a24"
      },
      "execution_count": 25,
      "outputs": [
        {
          "output_type": "stream",
          "name": "stdout",
          "text": [
            "1\n"
          ]
        }
      ]
    },
    {
      "cell_type": "code",
      "source": [
        "# 22. Write a code to check if the element \"banana\" is in the tuple ('apple', 'orange', 'banana').\n",
        "\n",
        "my_tuple = ('apple', 'orange', 'banana')\n",
        "is_banana_present = 'banana' in my_tuple\n",
        "print(is_banana_present)"
      ],
      "metadata": {
        "colab": {
          "base_uri": "https://localhost:8080/"
        },
        "id": "4KPCXJkL8luf",
        "outputId": "fc0df828-89f7-436e-ea27-c7bd987e385d"
      },
      "execution_count": 26,
      "outputs": [
        {
          "output_type": "stream",
          "name": "stdout",
          "text": [
            "True\n"
          ]
        }
      ]
    },
    {
      "cell_type": "code",
      "source": [
        "# 23. Write a code to create a set with the elements 1, 2, 3, 4, 5 and print it.\n",
        "\n",
        "my_set = {1, 2, 3, 4, 5}\n",
        "print(my_set)"
      ],
      "metadata": {
        "colab": {
          "base_uri": "https://localhost:8080/"
        },
        "id": "piJVTwBn8qA4",
        "outputId": "d1c584eb-65a2-4fa5-e732-71c8d72f2602"
      },
      "execution_count": 27,
      "outputs": [
        {
          "output_type": "stream",
          "name": "stdout",
          "text": [
            "{1, 2, 3, 4, 5}\n"
          ]
        }
      ]
    },
    {
      "cell_type": "code",
      "source": [
        "# 24. Write a code to add the element 6 to the set {1, 2, 3, 4}.\n",
        "\n",
        "my_set = {1, 2, 3, 4}\n",
        "my_set.add(6)\n",
        "print(my_set)"
      ],
      "metadata": {
        "colab": {
          "base_uri": "https://localhost:8080/"
        },
        "id": "y43DA7O381Rg",
        "outputId": "580fe212-467b-4aa5-e7b3-d279b8412e5c"
      },
      "execution_count": 28,
      "outputs": [
        {
          "output_type": "stream",
          "name": "stdout",
          "text": [
            "{1, 2, 3, 4, 6}\n"
          ]
        }
      ]
    }
  ]
}